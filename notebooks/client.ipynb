{
 "cells": [
  {
   "cell_type": "code",
   "execution_count": 57,
   "metadata": {},
   "outputs": [
    {
     "name": "stdout",
     "output_type": "stream",
     "text": [
      "Predicción del modelo: ['Adelie']\n"
     ]
    }
   ],
   "source": [
    "# Logistic regression 1\n",
    "import requests\n",
    "\n",
    "url = \"http://localhost:5000/predict/logistic_regression\"\n",
    "\n",
    "data = {\n",
    "    \"culmen_length_mm\": [39.1],\n",
    "    \"culmen_depth_mm\": [18.7],\n",
    "    \"flipper_length_mm\": [181],\n",
    "    \"body_mass_g\": [3750],\n",
    "    \"island\": [\"Torgersen\"],\n",
    "    \"sex\": [\"MALE\"]\n",
    "}\n",
    "\n",
    "response = requests.post(url, json=data)\n",
    "\n",
    "if response.status_code == 200:\n",
    "    predictions = response.json().get('predictions')\n",
    "    print(f\"Predicción del modelo: {predictions}\")\n",
    "else:\n",
    "    print(f\"Error en la solicitud: {response.status_code}, Detalles: {response.text}\")\n"
   ]
  },
  {
   "cell_type": "code",
   "execution_count": 58,
   "metadata": {},
   "outputs": [
    {
     "name": "stdout",
     "output_type": "stream",
     "text": [
      "Predicción del modelo: ['Chinstrap']\n"
     ]
    }
   ],
   "source": [
    "# Logistic regression 2\n",
    "import requests\n",
    "\n",
    "url = \"http://localhost:5000/predict/logistic_regression\"\n",
    "\n",
    "data = {\n",
    "    \"culmen_length_mm\": [46],\n",
    "    \"culmen_depth_mm\": [18],\n",
    "    \"flipper_length_mm\": [193],\n",
    "    \"body_mass_g\": [3555],\n",
    "    \"island\": [\"Torgersen\"],\n",
    "    \"sex\": [\"FEMALE\"]\n",
    "}\n",
    "\n",
    "response = requests.post(url, json=data)\n",
    "\n",
    "if response.status_code == 200:\n",
    "    predictions = response.json().get('predictions')\n",
    "    print(f\"Predicción del modelo: {predictions}\")\n",
    "else:\n",
    "    print(f\"Error en la solicitud: {response.status_code}, Detalles: {response.text}\")"
   ]
  },
  {
   "cell_type": "code",
   "execution_count": 59,
   "metadata": {},
   "outputs": [
    {
     "name": "stdout",
     "output_type": "stream",
     "text": [
      "Predicción del modelo: ['Adelie']\n"
     ]
    }
   ],
   "source": [
    "# SVM 1\n",
    "import requests\n",
    "\n",
    "url = \"http://localhost:5000/predict/svm\"\n",
    "\n",
    "data = {\n",
    "    \"culmen_length_mm\": [39.1],\n",
    "    \"culmen_depth_mm\": [18.7],\n",
    "    \"flipper_length_mm\": [181],\n",
    "    \"body_mass_g\": [3750],\n",
    "    \"island\": [\"Torgersen\"],\n",
    "    \"sex\": [\"MALE\"]\n",
    "}\n",
    "\n",
    "response = requests.post(url, json=data)\n",
    "\n",
    "if response.status_code == 200:\n",
    "    predictions = response.json().get('predictions')\n",
    "    print(f\"Predicción del modelo: {predictions}\")\n",
    "else:\n",
    "    print(f\"Error en la solicitud: {response.status_code}, Detalles: {response.text}\")\n"
   ]
  },
  {
   "cell_type": "code",
   "execution_count": null,
   "metadata": {},
   "outputs": [
    {
     "name": "stdout",
     "output_type": "stream",
     "text": [
      "Predicción del modelo: ['Chinstrap']\n"
     ]
    }
   ],
   "source": [
    "# SVM 2\n",
    "import requests\n",
    "\n",
    "url = \"http://localhost:5000/predict/svm\"\n",
    "\n",
    "data = {\n",
    "    \"culmen_length_mm\": [46],\n",
    "    \"culmen_depth_mm\": [18],\n",
    "    \"flipper_length_mm\": [193],\n",
    "    \"body_mass_g\": [3555],\n",
    "    \"island\": [\"Torgersen\"],\n",
    "    \"sex\": [\"FEMALE\"]\n",
    "}\n",
    "\n",
    "response = requests.post(url, json=data)\n",
    "\n",
    "if response.status_code == 200:\n",
    "    predictions = response.json().get('predictions')\n",
    "    print(f\"Predicción del modelo: {predictions}\")\n",
    "else:\n",
    "    print(f\"Error en la solicitud: {response.status_code}, Detalles: {response.text}\")"
   ]
  },
  {
   "cell_type": "code",
   "execution_count": 61,
   "metadata": {},
   "outputs": [
    {
     "name": "stdout",
     "output_type": "stream",
     "text": [
      "Predicción del modelo: ['Adelie']\n"
     ]
    }
   ],
   "source": [
    "# KNN 1\n",
    "import requests\n",
    "\n",
    "url = \"http://localhost:5000/predict/knn\"\n",
    "\n",
    "data = {\n",
    "    \"culmen_length_mm\": [39.1],\n",
    "    \"culmen_depth_mm\": [18.7],\n",
    "    \"flipper_length_mm\": [181],\n",
    "    \"body_mass_g\": [3750],\n",
    "    \"island\": [\"Torgersen\"],\n",
    "    \"sex\": [\"MALE\"]\n",
    "}\n",
    "\n",
    "response = requests.post(url, json=data)\n",
    "\n",
    "if response.status_code == 200:\n",
    "    predictions = response.json().get('predictions')\n",
    "    print(f\"Predicción del modelo: {predictions}\")\n",
    "else:\n",
    "    print(f\"Error en la solicitud: {response.status_code}, Detalles: {response.text}\")"
   ]
  },
  {
   "cell_type": "code",
   "execution_count": 62,
   "metadata": {},
   "outputs": [
    {
     "name": "stdout",
     "output_type": "stream",
     "text": [
      "Predicción del modelo: ['Adelie']\n"
     ]
    }
   ],
   "source": [
    "# KNN 2\n",
    "import requests\n",
    "\n",
    "url = \"http://localhost:5000/predict/knn\"\n",
    "\n",
    "data = {\n",
    "    \"culmen_length_mm\": [46],\n",
    "    \"culmen_depth_mm\": [18],\n",
    "    \"flipper_length_mm\": [193],\n",
    "    \"body_mass_g\": [3555],\n",
    "    \"island\": [\"Torgersen\"],\n",
    "    \"sex\": [\"FEMALE\"]\n",
    "}\n",
    "\n",
    "response = requests.post(url, json=data)\n",
    "\n",
    "if response.status_code == 200:\n",
    "    predictions = response.json().get('predictions')\n",
    "    print(f\"Predicción del modelo: {predictions}\")\n",
    "else:\n",
    "    print(f\"Error en la solicitud: {response.status_code}, Detalles: {response.text}\")"
   ]
  },
  {
   "cell_type": "code",
   "execution_count": 63,
   "metadata": {},
   "outputs": [
    {
     "name": "stdout",
     "output_type": "stream",
     "text": [
      "Predicción del modelo: ['Adelie']\n"
     ]
    }
   ],
   "source": [
    "# Decision tree 1\n",
    "import requests\n",
    "\n",
    "url = \"http://localhost:5000/predict/decision_tree\"\n",
    "\n",
    "data = {\n",
    "    \"culmen_length_mm\": [39.1],\n",
    "    \"culmen_depth_mm\": [18.7],\n",
    "    \"flipper_length_mm\": [181],\n",
    "    \"body_mass_g\": [3750],\n",
    "    \"island\": [\"Torgersen\"],\n",
    "    \"sex\": [\"MALE\"]\n",
    "}\n",
    "\n",
    "response = requests.post(url, json=data)\n",
    "\n",
    "if response.status_code == 200:\n",
    "    predictions = response.json().get('predictions')\n",
    "    print(f\"Predicción del modelo: {predictions}\")\n",
    "else:\n",
    "    print(f\"Error en la solicitud: {response.status_code}, Detalles: {response.text}\")"
   ]
  },
  {
   "cell_type": "code",
   "execution_count": 64,
   "metadata": {},
   "outputs": [
    {
     "name": "stdout",
     "output_type": "stream",
     "text": [
      "Predicción del modelo: ['Adelie']\n"
     ]
    }
   ],
   "source": [
    "# Decision tree 2\n",
    "import requests\n",
    "\n",
    "url = \"http://localhost:5000/predict/decision_tree\"\n",
    "\n",
    "data = {\n",
    "    \"culmen_length_mm\": [46],\n",
    "    \"culmen_depth_mm\": [18],\n",
    "    \"flipper_length_mm\": [193],\n",
    "    \"body_mass_g\": [3555],\n",
    "    \"island\": [\"Torgersen\"],\n",
    "    \"sex\": [\"FEMALE\"]\n",
    "}\n",
    "\n",
    "response = requests.post(url, json=data)\n",
    "\n",
    "if response.status_code == 200:\n",
    "    predictions = response.json().get('predictions')\n",
    "    print(f\"Predicción del modelo: {predictions}\")\n",
    "else:\n",
    "    print(f\"Error en la solicitud: {response.status_code}, Detalles: {response.text}\")"
   ]
  }
 ],
 "metadata": {
  "kernelspec": {
   "display_name": ".venv",
   "language": "python",
   "name": "python3"
  },
  "language_info": {
   "codemirror_mode": {
    "name": "ipython",
    "version": 3
   },
   "file_extension": ".py",
   "mimetype": "text/x-python",
   "name": "python",
   "nbconvert_exporter": "python",
   "pygments_lexer": "ipython3",
   "version": "3.13.1"
  }
 },
 "nbformat": 4,
 "nbformat_minor": 2
}
