{
 "cells": [
  {
   "cell_type": "code",
   "execution_count": 26,
   "metadata": {},
   "outputs": [
    {
     "name": "stdout",
     "output_type": "stream",
     "text": [
      "Predicción del modelo: [0]\n"
     ]
    }
   ],
   "source": [
    "import requests\n",
    "\n",
    "url = \"http://localhost:5000/predict/svm\"\n",
    "\n",
    "data = {\n",
    "    \"culmen_length_mm\": [39.1],\n",
    "    \"culmen_depth_mm\": [18.7],\n",
    "    \"flipper_length_mm\": [181],\n",
    "    \"body_mass_g\": [3750],\n",
    "    \"island\": [\"Torgersen\"],\n",
    "    \"sex\": [\"MALE\"]\n",
    "}\n",
    "\n",
    "response = requests.post(url, json=data)\n",
    "\n",
    "if response.status_code == 200:\n",
    "    predictions = response.json().get('predictions')\n",
    "    print(f\"Predicción del modelo: {predictions}\")\n",
    "else:\n",
    "    print(f\"Error en la solicitud: {response.status_code}, Detalles: {response.text}\")\n"
   ]
  },
  {
   "cell_type": "code",
   "execution_count": null,
   "metadata": {},
   "outputs": [
    {
     "name": "stdout",
     "output_type": "stream",
     "text": [
      "Predicción local: [0]\n"
     ]
    }
   ],
   "source": [
    "import joblib\n",
    "import pandas as pd\n",
    "\n",
    "model_old = joblib.load(\"../pinguinos/models/svm_model.pkl\")\n",
    "model_new = joblib.load(\"models/svm_model.pkl\")\n",
    "print(model_old)\n",
    "\n",
    "data = pd.DataFrame({\n",
    "    \"culmen_length_mm\": [39.1],\n",
    "    \"culmen_depth_mm\": [18.7],\n",
    "    \"flipper_length_mm\": [181],\n",
    "    \"body_mass_g\": [3750],\n",
    "    \"island\": [\"Torgersen\"],\n",
    "    \"sex\": [\"Male\"]\n",
    "})\n",
    "\n",
    "predictions = model_old.predict(data)\n",
    "print(f\"Predicción local: {predictions}\")"
   ]
  }
 ],
 "metadata": {
  "kernelspec": {
   "display_name": ".venv",
   "language": "python",
   "name": "python3"
  },
  "language_info": {
   "codemirror_mode": {
    "name": "ipython",
    "version": 3
   },
   "file_extension": ".py",
   "mimetype": "text/x-python",
   "name": "python",
   "nbconvert_exporter": "python",
   "pygments_lexer": "ipython3",
   "version": "3.13.1"
  }
 },
 "nbformat": 4,
 "nbformat_minor": 2
}
